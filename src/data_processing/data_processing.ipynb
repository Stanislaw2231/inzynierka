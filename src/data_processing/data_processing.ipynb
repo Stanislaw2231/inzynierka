{
 "cells": [
  {
   "cell_type": "code",
   "execution_count": 1,
   "metadata": {},
   "outputs": [],
   "source": [
    "from glob import glob\n",
    "import pandas as pd\n",
    "\n",
    "def read_data(files):\n",
    "    acc_set = 1\n",
    "    gyr_set = 1\n",
    "\n",
    "    acc_df = pd.DataFrame()\n",
    "    gyr_df = pd.DataFrame()\n",
    "\n",
    "    for f in files:\n",
    "        participant = f.split(\"\\\\\")[1].replace(f, \"\").split(\"-\")[0]\n",
    "        label = f.split(\"-\")[1]\n",
    "        category = f.split(\"-\")[2].rstrip(\"123\")\n",
    "\n",
    "        df = pd.read_csv(f)\n",
    "\n",
    "        df[\"participant\"] = participant\n",
    "        df[\"label\"] = label\n",
    "        df[\"category\"] = category\n",
    "\n",
    "        if \"Accelerometer\" in f:\n",
    "            df[\"set\"] = acc_set\n",
    "            acc_set += 1\n",
    "            acc_df = pd.concat([acc_df, df])\n",
    "\n",
    "        if \"Gyroscope\" in f:\n",
    "            df[\"set\"] = gyr_set\n",
    "            gyr_set += 1\n",
    "            gyr_df = pd.concat([gyr_df, df])\n",
    "            \n",
    "    acc_df.index = pd.to_datetime(acc_df[\"epoch (ms)\"], unit=\"ms\")\n",
    "    gyr_df.index = pd.to_datetime(gyr_df[\"epoch (ms)\"], unit=\"ms\")\n",
    "    \n",
    "    \n",
    "    del acc_df[\"epoch (ms)\"]\n",
    "    del acc_df[\"time (01:00)\"]\n",
    "    del acc_df[\"elapsed (s)\"]       \n",
    "    del gyr_df[\"epoch (ms)\"]\n",
    "    del gyr_df[\"time (01:00)\"]\n",
    "    del gyr_df[\"elapsed (s)\"]\n",
    "    \n",
    "    return acc_df, gyr_df\n",
    "\n",
    "files = glob(\"../../data/raw/*.csv\")"
   ]
  },
  {
   "cell_type": "code",
   "execution_count": 2,
   "metadata": {},
   "outputs": [],
   "source": [
    "def process_data(files = files):\n",
    "    acc_df, gyr_df = read_data(files)\n",
    "    df_mergerd = pd.concat([acc_df.iloc[:,:3], gyr_df], axis=1)\n",
    "\n",
    "    df_mergerd.columns = [\n",
    "        \"acc_x\",\n",
    "        \"acc_y\",\n",
    "        \"acc_z\",\n",
    "        \"gyr_x\",\n",
    "        \"gyr_y\",\n",
    "        \"gyr_z\",\n",
    "        \"participant\",\n",
    "        \"label\",\n",
    "        \"category\",\n",
    "        \"set\"\n",
    "    ]\n",
    "\n",
    "    sampling_rules = {\n",
    "        \"acc_x\": \"mean\",\n",
    "        \"acc_y\": \"mean\",\n",
    "        \"acc_z\": \"mean\",\n",
    "        \"gyr_x\": \"mean\",\n",
    "        \"gyr_y\": \"mean\",\n",
    "        \"gyr_z\": \"mean\",\n",
    "        \"participant\": \"last\",\n",
    "        \"label\": \"last\",\n",
    "        \"category\": \"last\",\n",
    "        \"set\": \"last\"\n",
    "    }\n",
    "\n",
    "    days = [g for n, g in df_mergerd.groupby(pd.Grouper(freq=\"D\"))]\n",
    "    df_resampled = pd.concat([df.resample(\"150ms\").apply(sampling_rules).dropna() for df in days])\n",
    "\n",
    "    df_resampled[\"set\"] = df_resampled[\"set\"].astype(\"int\")\n",
    "    return df_resampled"
   ]
  },
  {
   "cell_type": "code",
   "execution_count": 3,
   "metadata": {},
   "outputs": [],
   "source": [
    "def export_data(output_path):\n",
    "    df_resampled = process_data()\n",
    "    df_resampled.to_csv(output_path, index=False)"
   ]
  },
  {
   "cell_type": "code",
   "execution_count": 5,
   "metadata": {},
   "outputs": [],
   "source": [
    "output_path = \"../../data/partially processed/resampled_data.csv\"\n",
    "export_data(output_path)"
   ]
  }
 ],
 "metadata": {
  "kernelspec": {
   "display_name": "ml",
   "language": "python",
   "name": "python3"
  },
  "language_info": {
   "codemirror_mode": {
    "name": "ipython",
    "version": 3
   },
   "file_extension": ".py",
   "mimetype": "text/x-python",
   "name": "python",
   "nbconvert_exporter": "python",
   "pygments_lexer": "ipython3",
   "version": "3.11.11"
  }
 },
 "nbformat": 4,
 "nbformat_minor": 2
}
