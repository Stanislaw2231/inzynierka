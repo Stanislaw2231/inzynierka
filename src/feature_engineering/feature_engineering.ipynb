{
 "cells": [
  {
   "cell_type": "code",
   "execution_count": 1,
   "metadata": {},
   "outputs": [],
   "source": [
    "import pandas as pd\n",
    "import numpy as np\n",
    "import matplotlib.pyplot as plt\n",
    "from scipy.signal import butter, filtfilt\n",
    "\n",
    "\n",
    "# odszumianie sygnału\n",
    "\n",
    "df = pd.read_csv('../../data/partially processed/resampled_data_no_outliers.csv')\n",
    "df.drop(columns=['outlier_label'], inplace=True)\n",
    "df['epoch (ms)'] = pd.to_datetime(df['epoch (ms)'])\n",
    "df.set_index('epoch (ms)', inplace=True)\n",
    "\n",
    "def butter_lowpass_filter(data, cutoff, fs, order=4):\n",
    "    nyq = 0.5 * fs\n",
    "    normal_cutoff = cutoff / nyq\n",
    "    b, a = butter(order, normal_cutoff, btype='low', analog=False)\n",
    "    y = filtfilt(b, a, data)\n",
    "    return y\n",
    "\n",
    "\n",
    "\n",
    "# calate set duration\n",
    "for i in df[\"set\"].unique():\n",
    "    duration = df[df[\"set\"] == i].index[-1] - df[df[\"set\"] == i].index[0]\n",
    "    df.loc[df[\"set\"] == i, \"duration\"] = duration.seconds\n",
    "    \n",
    "duration_data = df.groupby(\"category\")[\"duration\"].mean()\n",
    "    \n",
    "\n",
    "\n",
    "\n"
   ]
  },
  {
   "cell_type": "code",
   "execution_count": 4,
   "metadata": {},
   "outputs": [
    {
     "name": "stdout",
     "output_type": "stream",
     "text": [
      "<class 'pandas.core.frame.DataFrame'>\n",
      "DatetimeIndex: 11963 entries, 2019-01-11 15:08:05.250000 to 2019-01-20 17:33:27.750000\n",
      "Data columns (total 10 columns):\n",
      " #   Column       Non-Null Count  Dtype  \n",
      "---  ------       --------------  -----  \n",
      " 0   acc_x        11963 non-null  float64\n",
      " 1   acc_y        11963 non-null  float64\n",
      " 2   acc_z        11963 non-null  float64\n",
      " 3   gyro_x       11963 non-null  float64\n",
      " 4   gyro_y       11963 non-null  float64\n",
      " 5   gyro_z       11963 non-null  float64\n",
      " 6   participant  11963 non-null  object \n",
      " 7   label        11963 non-null  object \n",
      " 8   category     11963 non-null  object \n",
      " 9   set          11963 non-null  int64  \n",
      "dtypes: float64(6), int64(1), object(3)\n",
      "memory usage: 1.0+ MB\n"
     ]
    }
   ],
   "source": [
    "df.info()"
   ]
  },
  {
   "cell_type": "code",
   "execution_count": 14,
   "metadata": {},
   "outputs": [
    {
     "name": "stdout",
     "output_type": "stream",
     "text": [
      "Accuracy: 0.9289520426287744\n",
      "Classification Report:\n",
      "               precision    recall  f1-score   support\n",
      "\n",
      "       bench       0.92      0.88      0.90      1769\n",
      "        dead       0.92      0.91      0.91      1630\n",
      "         ohp       0.88      0.91      0.90      1796\n",
      "        rest       0.98      0.99      0.98      1167\n",
      "         row       0.91      0.90      0.91      1489\n",
      "       squat       0.98      1.00      0.99      1720\n",
      "\n",
      "    accuracy                           0.93      9571\n",
      "   macro avg       0.93      0.93      0.93      9571\n",
      "weighted avg       0.93      0.93      0.93      9571\n",
      "\n"
     ]
    }
   ],
   "source": [
    "from sklearn.model_selection import train_test_split\n",
    "from sklearn.ensemble import RandomForestClassifier\n",
    "from sklearn.metrics import classification_report, accuracy_score\n",
    "\n",
    "\n",
    "df.reset_index(drop=True, inplace=True)\n",
    "# Prepare the data\n",
    "X = df[['acc_x', 'acc_y', 'acc_z', 'gyro_x', 'gyro_y', 'gyro_z']]\n",
    "y = df['label']\n",
    "\n",
    "# Split the data into training and testing sets\n",
    "X_train, X_test, y_train, y_test = train_test_split(X, y, test_size=0.8, random_state=42)\n",
    "\n",
    "# Initialize the Random Forest classifier\n",
    "rf = RandomForestClassifier(n_estimators=100, random_state=42)\n",
    "\n",
    "# Train the model\n",
    "rf.fit(X_train, y_train)\n",
    "\n",
    "# Make predictions\n",
    "y_pred = rf.predict(X_test)\n",
    "\n",
    "# Evaluate the model\n",
    "print(\"Accuracy:\", accuracy_score(y_test, y_pred))\n",
    "print(\"Classification Report:\\n\", classification_report(y_test, y_pred))"
   ]
  }
 ],
 "metadata": {
  "kernelspec": {
   "display_name": "ml",
   "language": "python",
   "name": "python3"
  },
  "language_info": {
   "codemirror_mode": {
    "name": "ipython",
    "version": 3
   },
   "file_extension": ".py",
   "mimetype": "text/x-python",
   "name": "python",
   "nbconvert_exporter": "python",
   "pygments_lexer": "ipython3",
   "version": "3.11.11"
  }
 },
 "nbformat": 4,
 "nbformat_minor": 2
}
